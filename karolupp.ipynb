{
 "cells": [
  {
   "cell_type": "markdown",
   "metadata": {},
   "source": [
    "# Karolinska under the loupe"
   ]
  },
  {
   "cell_type": "markdown",
   "metadata": {},
   "source": [
    "### imports"
   ]
  },
  {
   "cell_type": "code",
   "execution_count": 13,
   "metadata": {},
   "outputs": [],
   "source": [
    "import re\n",
    "import pandas as pd"
   ]
  },
  {
   "cell_type": "markdown",
   "metadata": {},
   "source": [
    "### note that the OA subset is approximately half of all publications from 2015 on"
   ]
  },
  {
   "cell_type": "markdown",
   "metadata": {},
   "source": [
    "### download years from 2015 to 2022 using the search (bit by bit considering 10k limit in csv output):\n",
    "`(pubmed pmc open access[filter]) AND (Karolinska[Affiliation])`"
   ]
  },
  {
   "cell_type": "code",
   "execution_count": 14,
   "metadata": {},
   "outputs": [],
   "source": [
    "karolinska1=pd.read_csv('./input/karolinska(1).csv')\n",
    "karolinska2=pd.read_csv('./input/karolinska(2).csv')\n",
    "karolinska3=pd.read_csv('./input/karolinska(2).csv')\n",
    "frames=[karolinska1,karolinska2, karolinska3]\n",
    "karolinska=pd.concat(frames)\n",
    "karolinska=karolinska.drop_duplicates(subset=['PMCID'])\n",
    "karolinska.to_csv('./pmcoalist_ki.csv', index=False)"
   ]
  },
  {
   "cell_type": "markdown",
   "metadata": {},
   "source": [
    "## combine the stanford dataset"
   ]
  },
  {
   "cell_type": "code",
   "execution_count": 15,
   "metadata": {},
   "outputs": [],
   "source": [
    "stanford1=pd.read_csv('./input/stanford(1).csv')\n",
    "stanford2=pd.read_csv('./input/stanford(2).csv')\n",
    "stanford3=pd.read_csv('./input/stanford(2).csv')\n",
    "frames=[stanford1,stanford2, stanford3]\n",
    "stanford=pd.concat(frames)\n",
    "stanford=stanford.drop_duplicates(subset=['PMCID'])\n",
    "stanford.to_csv('./pmcoalist_stanford.csv', index=False)"
   ]
  },
  {
   "cell_type": "markdown",
   "metadata": {},
   "source": [
    "# combine the Lund dataset"
   ]
  },
  {
   "cell_type": "code",
   "execution_count": 16,
   "metadata": {},
   "outputs": [],
   "source": [
    "lund1=pd.read_csv('./input/lund (1).csv')\n",
    "lund2=pd.read_csv('./input/lund (2).csv')\n",
    "frameslund=[lund1,lund2]\n",
    "lund=pd.concat(frameslund)\n",
    "lund=lund.drop_duplicates(subset=['PMCID'])\n",
    "lund.to_csv('./pmcoalist_lund.csv', index=False)"
   ]
  }
 ],
 "metadata": {
  "interpreter": {
   "hash": "69b35e572c017242754d2580afe35edb3e077b807609d926fbd2f462de31a9e0"
  },
  "kernelspec": {
   "display_name": "Python 3.9.7 ('base')",
   "language": "python",
   "name": "python3"
  },
  "language_info": {
   "codemirror_mode": {
    "name": "ipython",
    "version": 3
   },
   "file_extension": ".py",
   "mimetype": "text/x-python",
   "name": "python",
   "nbconvert_exporter": "python",
   "pygments_lexer": "ipython3",
   "version": "3.9.7"
  },
  "orig_nbformat": 4
 },
 "nbformat": 4,
 "nbformat_minor": 2
}
