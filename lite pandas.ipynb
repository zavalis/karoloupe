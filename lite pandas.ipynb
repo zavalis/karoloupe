{
 "cells": [
  {
   "cell_type": "code",
   "execution_count": 35,
   "metadata": {},
   "outputs": [],
   "source": [
    "import pandas as pd"
   ]
  },
  {
   "cell_type": "code",
   "execution_count": 36,
   "metadata": {},
   "outputs": [],
   "source": [
    "transp=pd.read_csv('./all.csv')"
   ]
  },
  {
   "cell_type": "code",
   "execution_count": 37,
   "metadata": {},
   "outputs": [],
   "source": [
    "# Model type\n",
    "columns=['is_coi_pred','is_register_pred','is_fund_pred','is_open_code','is_open_data','Institution', 'Publication Year']\n",
    "transpar=pd.DataFrame(transp, columns=columns)\n",
    "institution=pd.DataFrame(round(transpar.groupby(['Institution','Publication Year']).mean()*100,1))\n",
    "\n",
    "# Disease\n",
    "columns=['is_coi_pred','is_register_pred','is_fund_pred','is_open_code','is_open_data','Institution']\n",
    "transpar=pd.DataFrame(transp, columns=columns)\n",
    "year=pd.DataFrame(round(transpar.groupby('Institution').mean()*100,1))\n"
   ]
  },
  {
   "cell_type": "code",
   "execution_count": 38,
   "metadata": {},
   "outputs": [],
   "source": [
    "institution.to_csv('~/Downloads/institution.csv')"
   ]
  }
 ],
 "metadata": {
  "interpreter": {
   "hash": "69b35e572c017242754d2580afe35edb3e077b807609d926fbd2f462de31a9e0"
  },
  "kernelspec": {
   "display_name": "Python 3.9.7 ('base')",
   "language": "python",
   "name": "python3"
  },
  "language_info": {
   "codemirror_mode": {
    "name": "ipython",
    "version": 3
   },
   "file_extension": ".py",
   "mimetype": "text/x-python",
   "name": "python",
   "nbconvert_exporter": "python",
   "pygments_lexer": "ipython3",
   "version": "3.9.7"
  },
  "orig_nbformat": 4
 },
 "nbformat": 4,
 "nbformat_minor": 2
}
